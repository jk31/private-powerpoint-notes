{
 "cells": [
  {
   "cell_type": "code",
   "execution_count": 1,
   "metadata": {},
   "outputs": [],
   "source": [
    "from pptx import Presentation\n",
    "import re"
   ]
  },
  {
   "cell_type": "code",
   "execution_count": 6,
   "metadata": {},
   "outputs": [],
   "source": [
    "PATH_1 = \"../slides/presentation1.pptx\"\n",
    "prs = Presentation(PATH_1)"
   ]
  },
  {
   "cell_type": "code",
   "execution_count": 7,
   "metadata": {},
   "outputs": [],
   "source": [
    "for slide in prs.slides:\n",
    "    if slide.has_notes_slide:\n",
    "        slide.notes_slide.notes_placeholder.text = re.sub(r\"\\n?\\*\\*[\\s\\S]*?\\*\\*\", \"\", slide.notes_slide.notes_placeholder.text)\n",
    "        \n",
    "prs.save(\"../slides/output1.pptx\")"
   ]
  },
  {
   "cell_type": "code",
   "execution_count": null,
   "metadata": {},
   "outputs": [],
   "source": [
    "for slide in prs.slides:\n",
    "    if slide.has_notes_slide:\n",
    "        slide.notes_slide.notes_placeholder.text = re.sub(r\"\\n?<hide>[\\s\\S]*?</hide>\", \"\", slide.notes_slide.notes_placeholder.text)\n",
    "        \n",
    "prs.save(\"../slides/output1.pptx\")"
   ]
  },
  {
   "cell_type": "code",
   "execution_count": null,
   "metadata": {},
   "outputs": [],
   "source": [
    "note = prs.slides[0].notes_slide.notes_placeholder.text\n",
    "note"
   ]
  },
  {
   "cell_type": "code",
   "execution_count": null,
   "metadata": {
    "scrolled": true
   },
   "outputs": [],
   "source": [
    "clear_note = re.sub(\"#.*?#\", \"\", note)\n",
    "print(clear_note)"
   ]
  },
  {
   "cell_type": "code",
   "execution_count": null,
   "metadata": {},
   "outputs": [],
   "source": [
    "note = prs.slides[1].notes_slide.notes_placeholder.text\n",
    "print(note)"
   ]
  },
  {
   "cell_type": "code",
   "execution_count": null,
   "metadata": {
    "scrolled": true
   },
   "outputs": [],
   "source": [
    "clear_note = re.sub(r\"\\n?<hide>[\\s\\S]*?</hide>\", \"\", note)\n",
    "print(clear_note)"
   ]
  },
  {
   "cell_type": "code",
   "execution_count": null,
   "metadata": {
    "scrolled": true
   },
   "outputs": [],
   "source": [
    "clear_note = re.findall(\"\\n?<hide>[\\s\\S]*?</hide>\\n?\", note)\n",
    "clear_note"
   ]
  }
 ],
 "metadata": {
  "kernelspec": {
   "display_name": "Python 3",
   "language": "python",
   "name": "python3"
  },
  "language_info": {
   "codemirror_mode": {
    "name": "ipython",
    "version": 3
   },
   "file_extension": ".py",
   "mimetype": "text/x-python",
   "name": "python",
   "nbconvert_exporter": "python",
   "pygments_lexer": "ipython3",
   "version": "3.7.6"
  }
 },
 "nbformat": 4,
 "nbformat_minor": 4
}
