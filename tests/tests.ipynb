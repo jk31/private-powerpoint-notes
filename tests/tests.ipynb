{
 "cells": [
  {
   "cell_type": "code",
   "execution_count": 151,
   "metadata": {},
   "outputs": [],
   "source": [
    "from pptx import Presentation\n",
    "import re"
   ]
  },
  {
   "cell_type": "code",
   "execution_count": 156,
   "metadata": {},
   "outputs": [],
   "source": [
    "PATH_1 = \"../slides/presentation1.pptx\"\n",
    "prs = Presentation(PATH_1)"
   ]
  },
  {
   "cell_type": "code",
   "execution_count": 157,
   "metadata": {},
   "outputs": [],
   "source": [
    "for slide in prs.slides:\n",
    "    if slide.has_notes_slide:\n",
    "        slide.notes_slide.notes_placeholder.text = re.sub(r\"\\n?<hide>[\\s\\S]*?</hide>\", \"\", slide.notes_slide.notes_placeholder.text)\n",
    "        \n",
    "prs.save(\"../slides/output1.pptx\")"
   ]
  },
  {
   "cell_type": "code",
   "execution_count": 99,
   "metadata": {},
   "outputs": [
    {
     "data": {
      "text/plain": [
       "'Note number 1\\n\\n# Hidden note 1#\\n\\nAnother note 1\\n\\n# Hidden note 2#\\n# Hidden note 3    \\n* A bullet point\\n#\\n\\nEnd of note\\n\\nAnother note 2'"
      ]
     },
     "execution_count": 99,
     "metadata": {},
     "output_type": "execute_result"
    }
   ],
   "source": [
    "note = prs.slides[0].notes_slide.notes_placeholder.text\n",
    "note"
   ]
  },
  {
   "cell_type": "code",
   "execution_count": 52,
   "metadata": {
    "scrolled": true
   },
   "outputs": [
    {
     "name": "stdout",
     "output_type": "stream",
     "text": [
      "Note number 1\n",
      "\n",
      "\n",
      "\n",
      "Another note 1\n",
      "\n",
      "\n",
      "# Hidden note 3    \n",
      "* A bullet point\n",
      "#\n",
      "\n",
      "End of note\n",
      "\n",
      "Another note 2\n"
     ]
    }
   ],
   "source": [
    "clear_note = re.sub(\"#.*?#\", \"\", note)\n",
    "print(clear_note)"
   ]
  },
  {
   "cell_type": "code",
   "execution_count": 137,
   "metadata": {},
   "outputs": [
    {
     "name": "stdout",
     "output_type": "stream",
     "text": [
      "Bold note\n",
      "<hide>\n",
      "Hidden note 1\n",
      "</hide>\n",
      "\n",
      "Another note 1\n",
      "\n",
      "<hide>\n",
      "Hidden note 2</hide>\n",
      "<hide>Hidden note 3    \n",
      "* A bullet point\n",
      "</hide>\n",
      "\n",
      "End of note\n",
      "\n",
      "Another note 2\n"
     ]
    }
   ],
   "source": [
    "note = prs.slides[1].notes_slide.notes_placeholder.text\n",
    "print(note)"
   ]
  },
  {
   "cell_type": "code",
   "execution_count": 147,
   "metadata": {
    "scrolled": true
   },
   "outputs": [
    {
     "name": "stdout",
     "output_type": "stream",
     "text": [
      "Bold note\n",
      "\n",
      "Another note 1\n",
      "\n",
      "\n",
      "End of note\n",
      "\n",
      "Another note 2\n"
     ]
    }
   ],
   "source": [
    "clear_note = re.sub(r\"\\n?<hide>[\\s\\S]*?</hide>\", \"\", note)\n",
    "print(clear_note)"
   ]
  },
  {
   "cell_type": "code",
   "execution_count": 145,
   "metadata": {
    "scrolled": true
   },
   "outputs": [
    {
     "data": {
      "text/plain": [
       "['\\n<hide>\\nHidden note 1\\n</hide>\\n',\n",
       " '\\n<hide>\\nHidden note 2</hide>\\n',\n",
       " '<hide>Hidden note 3    \\n* A bullet point\\n</hide>\\n']"
      ]
     },
     "execution_count": 145,
     "metadata": {},
     "output_type": "execute_result"
    }
   ],
   "source": [
    "clear_note = re.findall(\"\\n?<hide>[\\s\\S]*?</hide>\\n?\", note)\n",
    "clear_note"
   ]
  }
 ],
 "metadata": {
  "kernelspec": {
   "display_name": "Python 3",
   "language": "python",
   "name": "python3"
  },
  "language_info": {
   "codemirror_mode": {
    "name": "ipython",
    "version": 3
   },
   "file_extension": ".py",
   "mimetype": "text/x-python",
   "name": "python",
   "nbconvert_exporter": "python",
   "pygments_lexer": "ipython3",
   "version": "3.7.6"
  }
 },
 "nbformat": 4,
 "nbformat_minor": 4
}
